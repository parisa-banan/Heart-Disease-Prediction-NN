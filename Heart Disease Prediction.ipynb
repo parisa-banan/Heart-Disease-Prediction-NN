{
 "cells": [
  {
   "cell_type": "markdown",
   "id": "8b662b98-e4a4-4bf1-978c-b3aa30a87e42",
   "metadata": {
    "tags": []
   },
   "source": [
    "# Heart Disease Prediction🫀🤒 using Neural Networks📈📊\n",
    "\n",
    "This notebook will focus on **predicting heart disease** using neural networks. The dataset used in this notebook has 918 samples across 12 attributes. Attributes include age, gender, chest pain type, cholesterol,...\n",
    "\n",
    "The goal of this notebook is to build a simple neural network to predict heart disease using Keras (with TensorFlow as the backend) as well as EDA and Data preprocessing. There will be some common Python libraries used, such as pandas, numpy, and matplotlib. Additionally, we will use sklearn and keras for the machine learning part of this project. Use the cells below to import these libraries and make sure they're installed correctly."
   ]
  },
  {
   "cell_type": "markdown",
   "id": "d0d62cc8-1a3b-411c-b1b6-b5821769390b",
   "metadata": {
    "tags": []
   },
   "source": [
    "## Import libraries and read data 📚 🛠"
   ]
  },
  {
   "cell_type": "code",
   "execution_count": 29,
   "id": "7b105e1f-6f5d-430b-8070-25b9b7fe3131",
   "metadata": {},
   "outputs": [],
   "source": [
    "%matplotlib inline\n",
    "\n",
    "import numpy as np\n",
    "import pandas as pd \n",
    "\n",
    "import matplotlib.pyplot as plt\n",
    "import seaborn as sns\n",
    "\n",
    "from sklearn.preprocessing import StandardScaler\n",
    "from sklearn.model_selection import train_test_split\n",
    "from sklearn.metrics import accuracy_score, classification_report\n",
    "\n",
    "import tensorflow as tf\n",
    "from tensorflow import keras\n",
    "from keras.models import Sequential\n",
    "from keras.layers import *\n",
    "from keras import regularizers\n",
    "from keras.optimizers import Adam\n",
    "from keras.utils.np_utils import to_categorical"
   ]
  },
  {
   "cell_type": "code",
   "execution_count": 2,
   "id": "0c39d72f-9aa8-494c-889b-760b0c9a97dd",
   "metadata": {},
   "outputs": [],
   "source": [
    "# read the csv file\n",
    "\n",
    "dataset = pd.read_csv('./heart.csv')"
   ]
  },
  {
   "cell_type": "code",
   "execution_count": 3,
   "id": "e1c4db85-f7a7-49ea-9f40-67067e02745c",
   "metadata": {},
   "outputs": [
    {
     "name": "stdout",
     "output_type": "stream",
     "text": [
      "Shape of DataFrame: (918, 12)\n",
      "There are 918 samples in 12 attributes in the dataset.\n"
     ]
    }
   ],
   "source": [
    "# print the shape of the DataFrame\n",
    "\n",
    "print('Shape of DataFrame:', dataset.shape)\n",
    "print(f'There are {dataset.shape[0]} samples in {dataset.shape[1]} attributes in the dataset.')"
   ]
  },
  {
   "cell_type": "markdown",
   "id": "e5faef42-2f1e-422f-84c8-948f1bf7be93",
   "metadata": {},
   "source": [
    "Our dataset is a csv file format with 12 features, one of which is our target(HeartDesease) and the rest are the features. Our dataset looks like this."
   ]
  },
  {
   "cell_type": "code",
   "execution_count": 4,
   "id": "125895dc-052d-4fd0-872e-8624cb460953",
   "metadata": {},
   "outputs": [
    {
     "data": {
      "text/html": [
       "<div>\n",
       "<style scoped>\n",
       "    .dataframe tbody tr th:only-of-type {\n",
       "        vertical-align: middle;\n",
       "    }\n",
       "\n",
       "    .dataframe tbody tr th {\n",
       "        vertical-align: top;\n",
       "    }\n",
       "\n",
       "    .dataframe thead th {\n",
       "        text-align: right;\n",
       "    }\n",
       "</style>\n",
       "<table border=\"1\" class=\"dataframe\">\n",
       "  <thead>\n",
       "    <tr style=\"text-align: right;\">\n",
       "      <th></th>\n",
       "      <th>Age</th>\n",
       "      <th>Sex</th>\n",
       "      <th>ChestPainType</th>\n",
       "      <th>RestingBP</th>\n",
       "      <th>Cholesterol</th>\n",
       "      <th>FastingBS</th>\n",
       "      <th>RestingECG</th>\n",
       "      <th>MaxHR</th>\n",
       "      <th>ExerciseAngina</th>\n",
       "      <th>Oldpeak</th>\n",
       "      <th>ST_Slope</th>\n",
       "      <th>HeartDisease</th>\n",
       "    </tr>\n",
       "  </thead>\n",
       "  <tbody>\n",
       "    <tr>\n",
       "      <th>0</th>\n",
       "      <td>40</td>\n",
       "      <td>M</td>\n",
       "      <td>ATA</td>\n",
       "      <td>140</td>\n",
       "      <td>289</td>\n",
       "      <td>0</td>\n",
       "      <td>Normal</td>\n",
       "      <td>172</td>\n",
       "      <td>N</td>\n",
       "      <td>0.0</td>\n",
       "      <td>Up</td>\n",
       "      <td>0</td>\n",
       "    </tr>\n",
       "    <tr>\n",
       "      <th>1</th>\n",
       "      <td>49</td>\n",
       "      <td>F</td>\n",
       "      <td>NAP</td>\n",
       "      <td>160</td>\n",
       "      <td>180</td>\n",
       "      <td>0</td>\n",
       "      <td>Normal</td>\n",
       "      <td>156</td>\n",
       "      <td>N</td>\n",
       "      <td>1.0</td>\n",
       "      <td>Flat</td>\n",
       "      <td>1</td>\n",
       "    </tr>\n",
       "    <tr>\n",
       "      <th>2</th>\n",
       "      <td>37</td>\n",
       "      <td>M</td>\n",
       "      <td>ATA</td>\n",
       "      <td>130</td>\n",
       "      <td>283</td>\n",
       "      <td>0</td>\n",
       "      <td>ST</td>\n",
       "      <td>98</td>\n",
       "      <td>N</td>\n",
       "      <td>0.0</td>\n",
       "      <td>Up</td>\n",
       "      <td>0</td>\n",
       "    </tr>\n",
       "    <tr>\n",
       "      <th>3</th>\n",
       "      <td>48</td>\n",
       "      <td>F</td>\n",
       "      <td>ASY</td>\n",
       "      <td>138</td>\n",
       "      <td>214</td>\n",
       "      <td>0</td>\n",
       "      <td>Normal</td>\n",
       "      <td>108</td>\n",
       "      <td>Y</td>\n",
       "      <td>1.5</td>\n",
       "      <td>Flat</td>\n",
       "      <td>1</td>\n",
       "    </tr>\n",
       "    <tr>\n",
       "      <th>4</th>\n",
       "      <td>54</td>\n",
       "      <td>M</td>\n",
       "      <td>NAP</td>\n",
       "      <td>150</td>\n",
       "      <td>195</td>\n",
       "      <td>0</td>\n",
       "      <td>Normal</td>\n",
       "      <td>122</td>\n",
       "      <td>N</td>\n",
       "      <td>0.0</td>\n",
       "      <td>Up</td>\n",
       "      <td>0</td>\n",
       "    </tr>\n",
       "    <tr>\n",
       "      <th>5</th>\n",
       "      <td>39</td>\n",
       "      <td>M</td>\n",
       "      <td>NAP</td>\n",
       "      <td>120</td>\n",
       "      <td>339</td>\n",
       "      <td>0</td>\n",
       "      <td>Normal</td>\n",
       "      <td>170</td>\n",
       "      <td>N</td>\n",
       "      <td>0.0</td>\n",
       "      <td>Up</td>\n",
       "      <td>0</td>\n",
       "    </tr>\n",
       "    <tr>\n",
       "      <th>6</th>\n",
       "      <td>45</td>\n",
       "      <td>F</td>\n",
       "      <td>ATA</td>\n",
       "      <td>130</td>\n",
       "      <td>237</td>\n",
       "      <td>0</td>\n",
       "      <td>Normal</td>\n",
       "      <td>170</td>\n",
       "      <td>N</td>\n",
       "      <td>0.0</td>\n",
       "      <td>Up</td>\n",
       "      <td>0</td>\n",
       "    </tr>\n",
       "  </tbody>\n",
       "</table>\n",
       "</div>"
      ],
      "text/plain": [
       "   Age Sex ChestPainType  RestingBP  Cholesterol  FastingBS RestingECG  MaxHR  \\\n",
       "0   40   M           ATA        140          289          0     Normal    172   \n",
       "1   49   F           NAP        160          180          0     Normal    156   \n",
       "2   37   M           ATA        130          283          0         ST     98   \n",
       "3   48   F           ASY        138          214          0     Normal    108   \n",
       "4   54   M           NAP        150          195          0     Normal    122   \n",
       "5   39   M           NAP        120          339          0     Normal    170   \n",
       "6   45   F           ATA        130          237          0     Normal    170   \n",
       "\n",
       "  ExerciseAngina  Oldpeak ST_Slope  HeartDisease  \n",
       "0              N      0.0       Up             0  \n",
       "1              N      1.0     Flat             1  \n",
       "2              N      0.0       Up             0  \n",
       "3              Y      1.5     Flat             1  \n",
       "4              N      0.0       Up             0  \n",
       "5              N      0.0       Up             0  \n",
       "6              N      0.0       Up             0  "
      ]
     },
     "execution_count": 4,
     "metadata": {},
     "output_type": "execute_result"
    }
   ],
   "source": [
    "# dataset's first 7 samples\n",
    "\n",
    "dataset.head(7)"
   ]
  },
  {
   "cell_type": "markdown",
   "id": "5c72ebee-35b3-46f4-8b6b-1c834c8a0df5",
   "metadata": {
    "tags": []
   },
   "source": [
    "## EDA and Data Preprocessing 🎨 🎬"
   ]
  },
  {
   "cell_type": "markdown",
   "id": "9f92d7d2-f7dc-4703-85cd-7442beed3958",
   "metadata": {},
   "source": [
    "Information about our dataset is available here, such as data types and number of null samples. We don't have any null samples in our dataset, but we have some \"object\" data types that need to be handled later."
   ]
  },
  {
   "cell_type": "code",
   "execution_count": 5,
   "id": "ccaec358-f8b7-4740-b188-ea1a2fc027e7",
   "metadata": {},
   "outputs": [
    {
     "name": "stdout",
     "output_type": "stream",
     "text": [
      "<class 'pandas.core.frame.DataFrame'>\n",
      "RangeIndex: 918 entries, 0 to 917\n",
      "Data columns (total 12 columns):\n",
      " #   Column          Non-Null Count  Dtype  \n",
      "---  ------          --------------  -----  \n",
      " 0   Age             918 non-null    int64  \n",
      " 1   Sex             918 non-null    object \n",
      " 2   ChestPainType   918 non-null    object \n",
      " 3   RestingBP       918 non-null    int64  \n",
      " 4   Cholesterol     918 non-null    int64  \n",
      " 5   FastingBS       918 non-null    int64  \n",
      " 6   RestingECG      918 non-null    object \n",
      " 7   MaxHR           918 non-null    int64  \n",
      " 8   ExerciseAngina  918 non-null    object \n",
      " 9   Oldpeak         918 non-null    float64\n",
      " 10  ST_Slope        918 non-null    object \n",
      " 11  HeartDisease    918 non-null    int64  \n",
      "dtypes: float64(1), int64(6), object(5)\n",
      "memory usage: 86.2+ KB\n"
     ]
    }
   ],
   "source": [
    "# datasets information\n",
    "\n",
    "dataset.info()"
   ]
  },
  {
   "cell_type": "markdown",
   "id": "1d1383e1-7656-4f70-a60a-52be79c11486",
   "metadata": {},
   "source": [
    "The describe() method returns description of the numerical data in the DataFrame. We can see here, for example, that the average age in our dataset is 53.51 years old or nearly 55% of the people in the dataset have heart disease."
   ]
  },
  {
   "cell_type": "code",
   "execution_count": 6,
   "id": "de3c34e4-2f40-4eba-8280-5eeec18ae232",
   "metadata": {},
   "outputs": [
    {
     "data": {
      "text/html": [
       "<div>\n",
       "<style scoped>\n",
       "    .dataframe tbody tr th:only-of-type {\n",
       "        vertical-align: middle;\n",
       "    }\n",
       "\n",
       "    .dataframe tbody tr th {\n",
       "        vertical-align: top;\n",
       "    }\n",
       "\n",
       "    .dataframe thead th {\n",
       "        text-align: right;\n",
       "    }\n",
       "</style>\n",
       "<table border=\"1\" class=\"dataframe\">\n",
       "  <thead>\n",
       "    <tr style=\"text-align: right;\">\n",
       "      <th></th>\n",
       "      <th>Age</th>\n",
       "      <th>RestingBP</th>\n",
       "      <th>Cholesterol</th>\n",
       "      <th>FastingBS</th>\n",
       "      <th>MaxHR</th>\n",
       "      <th>Oldpeak</th>\n",
       "      <th>HeartDisease</th>\n",
       "    </tr>\n",
       "  </thead>\n",
       "  <tbody>\n",
       "    <tr>\n",
       "      <th>count</th>\n",
       "      <td>918.000000</td>\n",
       "      <td>918.000000</td>\n",
       "      <td>918.000000</td>\n",
       "      <td>918.000000</td>\n",
       "      <td>918.000000</td>\n",
       "      <td>918.000000</td>\n",
       "      <td>918.000000</td>\n",
       "    </tr>\n",
       "    <tr>\n",
       "      <th>mean</th>\n",
       "      <td>53.510893</td>\n",
       "      <td>132.396514</td>\n",
       "      <td>198.799564</td>\n",
       "      <td>0.233115</td>\n",
       "      <td>136.809368</td>\n",
       "      <td>0.887364</td>\n",
       "      <td>0.553377</td>\n",
       "    </tr>\n",
       "    <tr>\n",
       "      <th>std</th>\n",
       "      <td>9.432617</td>\n",
       "      <td>18.514154</td>\n",
       "      <td>109.384145</td>\n",
       "      <td>0.423046</td>\n",
       "      <td>25.460334</td>\n",
       "      <td>1.066570</td>\n",
       "      <td>0.497414</td>\n",
       "    </tr>\n",
       "    <tr>\n",
       "      <th>min</th>\n",
       "      <td>28.000000</td>\n",
       "      <td>0.000000</td>\n",
       "      <td>0.000000</td>\n",
       "      <td>0.000000</td>\n",
       "      <td>60.000000</td>\n",
       "      <td>-2.600000</td>\n",
       "      <td>0.000000</td>\n",
       "    </tr>\n",
       "    <tr>\n",
       "      <th>25%</th>\n",
       "      <td>47.000000</td>\n",
       "      <td>120.000000</td>\n",
       "      <td>173.250000</td>\n",
       "      <td>0.000000</td>\n",
       "      <td>120.000000</td>\n",
       "      <td>0.000000</td>\n",
       "      <td>0.000000</td>\n",
       "    </tr>\n",
       "    <tr>\n",
       "      <th>50%</th>\n",
       "      <td>54.000000</td>\n",
       "      <td>130.000000</td>\n",
       "      <td>223.000000</td>\n",
       "      <td>0.000000</td>\n",
       "      <td>138.000000</td>\n",
       "      <td>0.600000</td>\n",
       "      <td>1.000000</td>\n",
       "    </tr>\n",
       "    <tr>\n",
       "      <th>75%</th>\n",
       "      <td>60.000000</td>\n",
       "      <td>140.000000</td>\n",
       "      <td>267.000000</td>\n",
       "      <td>0.000000</td>\n",
       "      <td>156.000000</td>\n",
       "      <td>1.500000</td>\n",
       "      <td>1.000000</td>\n",
       "    </tr>\n",
       "    <tr>\n",
       "      <th>max</th>\n",
       "      <td>77.000000</td>\n",
       "      <td>200.000000</td>\n",
       "      <td>603.000000</td>\n",
       "      <td>1.000000</td>\n",
       "      <td>202.000000</td>\n",
       "      <td>6.200000</td>\n",
       "      <td>1.000000</td>\n",
       "    </tr>\n",
       "  </tbody>\n",
       "</table>\n",
       "</div>"
      ],
      "text/plain": [
       "              Age   RestingBP  Cholesterol   FastingBS       MaxHR  \\\n",
       "count  918.000000  918.000000   918.000000  918.000000  918.000000   \n",
       "mean    53.510893  132.396514   198.799564    0.233115  136.809368   \n",
       "std      9.432617   18.514154   109.384145    0.423046   25.460334   \n",
       "min     28.000000    0.000000     0.000000    0.000000   60.000000   \n",
       "25%     47.000000  120.000000   173.250000    0.000000  120.000000   \n",
       "50%     54.000000  130.000000   223.000000    0.000000  138.000000   \n",
       "75%     60.000000  140.000000   267.000000    0.000000  156.000000   \n",
       "max     77.000000  200.000000   603.000000    1.000000  202.000000   \n",
       "\n",
       "          Oldpeak  HeartDisease  \n",
       "count  918.000000    918.000000  \n",
       "mean     0.887364      0.553377  \n",
       "std      1.066570      0.497414  \n",
       "min     -2.600000      0.000000  \n",
       "25%      0.000000      0.000000  \n",
       "50%      0.600000      1.000000  \n",
       "75%      1.500000      1.000000  \n",
       "max      6.200000      1.000000  "
      ]
     },
     "execution_count": 6,
     "metadata": {},
     "output_type": "execute_result"
    }
   ],
   "source": [
    "# description of the numerical data\n",
    "\n",
    "dataset.describe()"
   ]
  },
  {
   "cell_type": "markdown",
   "id": "ed656baf-1b2a-49e0-b672-f0fedc9de619",
   "metadata": {},
   "source": [
    "I checked for null values here, and hopefully none were found. Whenever our dataset has any null values, we need to either drop them or set a value for them."
   ]
  },
  {
   "cell_type": "code",
   "execution_count": 7,
   "id": "c1ec984e-5261-43be-83c8-ad279e557ce8",
   "metadata": {},
   "outputs": [
    {
     "data": {
      "text/plain": [
       "Age               0\n",
       "Sex               0\n",
       "ChestPainType     0\n",
       "RestingBP         0\n",
       "Cholesterol       0\n",
       "FastingBS         0\n",
       "RestingECG        0\n",
       "MaxHR             0\n",
       "ExerciseAngina    0\n",
       "Oldpeak           0\n",
       "ST_Slope          0\n",
       "HeartDisease      0\n",
       "dtype: int64"
      ]
     },
     "execution_count": 7,
     "metadata": {},
     "output_type": "execute_result"
    }
   ],
   "source": [
    "# Check for null values\n",
    "\n",
    "dataset.isnull().sum()"
   ]
  },
  {
   "cell_type": "markdown",
   "id": "f29437cd-9b3b-4ea8-8e18-730510702100",
   "metadata": {},
   "source": [
    "A balanced dataset is a dataset where each output class (or target class) is represented by the same number of input samples. If we have an imbalanced dataset we will lose valuable information from the sample. Therefore, it is a good idea to check if the dataset is balanced before moving forward."
   ]
  },
  {
   "cell_type": "code",
   "execution_count": 8,
   "id": "3e1eb409-13e7-415d-bdcf-0e043b6cb3e9",
   "metadata": {},
   "outputs": [
    {
     "name": "stdout",
     "output_type": "stream",
     "text": [
      "1    508\n",
      "0    410\n",
      "Name: HeartDisease, dtype: int64\n"
     ]
    }
   ],
   "source": [
    "# Check to see if the dataset is balanced\n",
    "\n",
    "print(dataset['HeartDisease'].value_counts())"
   ]
  },
  {
   "cell_type": "code",
   "execution_count": 9,
   "id": "43358ee4-19c0-4893-8b78-0993c7b042f7",
   "metadata": {},
   "outputs": [
    {
     "name": "stdout",
     "output_type": "stream",
     "text": [
      "1    55.337691\n",
      "0    44.662309\n",
      "Name: HeartDisease, dtype: float64\n"
     ]
    }
   ],
   "source": [
    "# The percentage of people belonging to different classes\n",
    "\n",
    "print(dataset['HeartDisease'].value_counts(normalize=True) * 100)"
   ]
  },
  {
   "cell_type": "markdown",
   "id": "95671d16-45a6-450e-bca3-1439d6dba72f",
   "metadata": {},
   "source": [
    "Because the dataset appears to be balanced, we will not perform any up or down sampling."
   ]
  },
  {
   "cell_type": "markdown",
   "id": "29599f8c-22c1-400b-899e-3aee625dd878",
   "metadata": {},
   "source": [
    "What percentage of the people in this dataset are men and what percentage are women?\n",
    "First I created two variables called male and female and counted the number of \"male\" and \"female\" in our dataset to assign the number to these variables. Then I used a pie chart to visualize the percent of males and females in the dataset. As you can see, almost 79% of people in this dataset are male."
   ]
  },
  {
   "cell_type": "code",
   "execution_count": 10,
   "id": "58b336a5-b4fa-4230-8a2b-1f64bb5bbfd6",
   "metadata": {},
   "outputs": [
    {
     "name": "stdout",
     "output_type": "stream",
     "text": [
      "We have 725 men and 193 women in our dataset.\n"
     ]
    },
    {
     "data": {
      "image/png": "[encoded data removed]",
      "text/plain": [
       "<Figure size 432x288 with 1 Axes>"
      ]
     },
     "metadata": {},
     "output_type": "display_data"
    }
   ],
   "source": [
    "# percentage of men and women in the dataset\n",
    "\n",
    "male = dataset.Sex[dataset.Sex == 'M'].count()\n",
    "female = dataset.Sex[dataset.Sex == 'F'].count()\n",
    "print(f'We have {male} men and {female} women in our dataset.')\n",
    "\n",
    "data = [male, female]\n",
    "labels = ['male', 'female']\n",
    "\n",
    "plt.pie(data, labels=labels, radius = 1.5, autopct = \"%0.2f%%\")\n",
    "plt.show()"
   ]
  },
  {
   "cell_type": "markdown",
   "id": "8ea02e48-b58a-4cfd-a64a-dcf72286b45a",
   "metadata": {},
   "source": [
    "The catplot represents the different types of chest pain among the people in our samples. We can see that men are more likely to suffer from chest pain than women.Additionally, having \"ASY\" chest pain means we are more likely to have a heart problem."
   ]
  },
  {
   "cell_type": "code",
   "execution_count": 11,
   "id": "d3beb11f-df3a-445c-8537-986500e1972f",
   "metadata": {},
   "outputs": [
    {
     "data": {
      "text/plain": [
       "<seaborn.axisgrid.FacetGrid at 0x161854250>"
      ]
     },
     "execution_count": 11,
     "metadata": {},
     "output_type": "execute_result"
    },
    {
     "data": {
      "image/png": "[encoded data removed]",
      "text/plain": [
       "<Figure size 476.625x432 with 1 Axes>"
      ]
     },
     "metadata": {
      "needs_background": "light"
     },
     "output_type": "display_data"
    }
   ],
   "source": [
    "# different types of chest pain\n",
    "\n",
    "sns.catplot(data=dataset, x='ChestPainType', y='HeartDisease', hue='Sex', kind=\"bar\", height=6)"
   ]
  },
  {
   "cell_type": "markdown",
   "id": "8dea1a15-45ab-421d-99ac-5cd71afad62d",
   "metadata": {},
   "source": [
    "The chart below illustrates the impact of having colestroles on having a heart condition."
   ]
  },
  {
   "cell_type": "code",
   "execution_count": 12,
   "id": "edce62ae-ee8d-43be-b286-758ca8c33bd1",
   "metadata": {},
   "outputs": [
    {
     "data": {
      "text/plain": [
       "<seaborn.axisgrid.FacetGrid at 0x161c46c70>"
      ]
     },
     "execution_count": 12,
     "metadata": {},
     "output_type": "execute_result"
    },
    {
     "data": {
      "image/png": "[encoded data removed]",
      "text/plain": [
       "<Figure size 396x396 with 1 Axes>"
      ]
     },
     "metadata": {
      "needs_background": "light"
     },
     "output_type": "display_data"
    }
   ],
   "source": [
    "# impact of having colestroles\n",
    "\n",
    "sns.catplot(data=dataset, x='HeartDisease', y='Cholesterol', kind=\"bar\", height=5.5)"
   ]
  },
  {
   "cell_type": "markdown",
   "id": "8aed06a2-deae-4627-8245-d0b63f52fb14",
   "metadata": {},
   "source": [
    "A correlation matrix is a table showing correlation coefficients between variables. Each cell in the table shows the correlation between two variables. A correlation matrix is used to summarize data, as an input into a more advanced analysis, and as a diagnostic for advanced analyses."
   ]
  },
  {
   "cell_type": "code",
   "execution_count": 13,
   "id": "53709bdf-c35a-4ee2-845f-4f65595f3a1a",
   "metadata": {
    "tags": []
   },
   "outputs": [
    {
     "name": "stderr",
     "output_type": "stream",
     "text": [
      "/var/folders/rg/tdyflbyd2l55vz5v0cf_pqdr0000gn/T/ipykernel_7494/322348381.py:7: UserWarning: Matplotlib is currently using module://matplotlib_inline.backend_inline, which is a non-GUI backend, so cannot show the figure.\n",
      "  plt.show()\n"
     ]
    },
    {
     "data": {
      "image/png": "[encoded data removed]",
      "text/plain": [
       "<Figure size 720x576 with 2 Axes>"
      ]
     },
     "metadata": {
      "needs_background": "light"
     },
     "output_type": "display_data"
    }
   ],
   "source": [
    "# correlation matrix\n",
    "\n",
    "correlation = dataset.corr()\n",
    "\n",
    "plt = plt.figure(figsize=(10,8))\n",
    "sns.heatmap(correlation, annot=True, fmt='.2f', cmap=sns.color_palette(\"crest\", as_cmap=True))\n",
    "plt.show()"
   ]
  },
  {
   "cell_type": "markdown",
   "id": "d54e44d1-3214-4846-94a2-eb13469f7891",
   "metadata": {},
   "source": [
    "Our understanding of the dataset is good at this point, and we plotted some plots to gain a better understanding of it. The data should be preprocessed to prepare it for giving as input to our model before training it and making predictions.\n",
    "\n",
    "I'll start the data preprocessing with seperating datasets label from other features. Here we have X that is a DataFrame and consists of dataset features(except the label) and we have y, a pandas Series and it contains our datasets label(HeartDisease)."
   ]
  },
  {
   "cell_type": "code",
   "execution_count": 14,
   "id": "6020c1f7-1830-4365-aaa3-9bef817d509b",
   "metadata": {},
   "outputs": [],
   "source": [
    "# seperating datasets label from other features\n",
    "\n",
    "X = dataset.drop('HeartDisease', axis=1)\n",
    "y = dataset['HeartDisease']"
   ]
  },
  {
   "cell_type": "markdown",
   "id": "0e581ebf-f8c0-44be-81e7-0b8160bbbe69",
   "metadata": {},
   "source": [
    "As you can see \"X\" is pandas DataFrame with shape of (918, 11). You can also see the first 5 samples of the DataFrame in the code below."
   ]
  },
  {
   "cell_type": "code",
   "execution_count": 15,
   "id": "248d1910-94fa-468c-bb7f-f0ddbc06b385",
   "metadata": {},
   "outputs": [
    {
     "name": "stdout",
     "output_type": "stream",
     "text": [
      "X is: <class 'pandas.core.frame.DataFrame'>\n",
      "Shape of X: (918, 11)\n"
     ]
    },
    {
     "data": {
      "text/html": [
       "<div>\n",
       "<style scoped>\n",
       "    .dataframe tbody tr th:only-of-type {\n",
       "        vertical-align: middle;\n",
       "    }\n",
       "\n",
       "    .dataframe tbody tr th {\n",
       "        vertical-align: top;\n",
       "    }\n",
       "\n",
       "    .dataframe thead th {\n",
       "        text-align: right;\n",
       "    }\n",
       "</style>\n",
       "<table border=\"1\" class=\"dataframe\">\n",
       "  <thead>\n",
       "    <tr style=\"text-align: right;\">\n",
       "      <th></th>\n",
       "      <th>Age</th>\n",
       "      <th>Sex</th>\n",
       "      <th>ChestPainType</th>\n",
       "      <th>RestingBP</th>\n",
       "      <th>Cholesterol</th>\n",
       "      <th>FastingBS</th>\n",
       "      <th>RestingECG</th>\n",
       "      <th>MaxHR</th>\n",
       "      <th>ExerciseAngina</th>\n",
       "      <th>Oldpeak</th>\n",
       "      <th>ST_Slope</th>\n",
       "    </tr>\n",
       "  </thead>\n",
       "  <tbody>\n",
       "    <tr>\n",
       "      <th>0</th>\n",
       "      <td>40</td>\n",
       "      <td>M</td>\n",
       "      <td>ATA</td>\n",
       "      <td>140</td>\n",
       "      <td>289</td>\n",
       "      <td>0</td>\n",
       "      <td>Normal</td>\n",
       "      <td>172</td>\n",
       "      <td>N</td>\n",
       "      <td>0.0</td>\n",
       "      <td>Up</td>\n",
       "    </tr>\n",
       "    <tr>\n",
       "      <th>1</th>\n",
       "      <td>49</td>\n",
       "      <td>F</td>\n",
       "      <td>NAP</td>\n",
       "      <td>160</td>\n",
       "      <td>180</td>\n",
       "      <td>0</td>\n",
       "      <td>Normal</td>\n",
       "      <td>156</td>\n",
       "      <td>N</td>\n",
       "      <td>1.0</td>\n",
       "      <td>Flat</td>\n",
       "    </tr>\n",
       "    <tr>\n",
       "      <th>2</th>\n",
       "      <td>37</td>\n",
       "      <td>M</td>\n",
       "      <td>ATA</td>\n",
       "      <td>130</td>\n",
       "      <td>283</td>\n",
       "      <td>0</td>\n",
       "      <td>ST</td>\n",
       "      <td>98</td>\n",
       "      <td>N</td>\n",
       "      <td>0.0</td>\n",
       "      <td>Up</td>\n",
       "    </tr>\n",
       "    <tr>\n",
       "      <th>3</th>\n",
       "      <td>48</td>\n",
       "      <td>F</td>\n",
       "      <td>ASY</td>\n",
       "      <td>138</td>\n",
       "      <td>214</td>\n",
       "      <td>0</td>\n",
       "      <td>Normal</td>\n",
       "      <td>108</td>\n",
       "      <td>Y</td>\n",
       "      <td>1.5</td>\n",
       "      <td>Flat</td>\n",
       "    </tr>\n",
       "    <tr>\n",
       "      <th>4</th>\n",
       "      <td>54</td>\n",
       "      <td>M</td>\n",
       "      <td>NAP</td>\n",
       "      <td>150</td>\n",
       "      <td>195</td>\n",
       "      <td>0</td>\n",
       "      <td>Normal</td>\n",
       "      <td>122</td>\n",
       "      <td>N</td>\n",
       "      <td>0.0</td>\n",
       "      <td>Up</td>\n",
       "    </tr>\n",
       "  </tbody>\n",
       "</table>\n",
       "</div>"
      ],
      "text/plain": [
       "   Age Sex ChestPainType  RestingBP  Cholesterol  FastingBS RestingECG  MaxHR  \\\n",
       "0   40   M           ATA        140          289          0     Normal    172   \n",
       "1   49   F           NAP        160          180          0     Normal    156   \n",
       "2   37   M           ATA        130          283          0         ST     98   \n",
       "3   48   F           ASY        138          214          0     Normal    108   \n",
       "4   54   M           NAP        150          195          0     Normal    122   \n",
       "\n",
       "  ExerciseAngina  Oldpeak ST_Slope  \n",
       "0              N      0.0       Up  \n",
       "1              N      1.0     Flat  \n",
       "2              N      0.0       Up  \n",
       "3              Y      1.5     Flat  \n",
       "4              N      0.0       Up  "
      ]
     },
     "execution_count": 15,
     "metadata": {},
     "output_type": "execute_result"
    }
   ],
   "source": [
    "print(f'X is: {type(X)}')\n",
    "print(f'Shape of X: {X.shape}')\n",
    "X.head()"
   ]
  },
  {
   "cell_type": "markdown",
   "id": "19624081-6df4-4b7f-815a-18573b8e482c",
   "metadata": {},
   "source": [
    "\"y\" is pandas Series with shape of (918, ) and you can see the first 5 values of it down here."
   ]
  },
  {
   "cell_type": "code",
   "execution_count": 16,
   "id": "6f64dab1-64e4-42da-90e7-b56107a8462f",
   "metadata": {},
   "outputs": [
    {
     "name": "stdout",
     "output_type": "stream",
     "text": [
      "y is: <class 'pandas.core.series.Series'>\n",
      "Shape of y: (918,)\n"
     ]
    },
    {
     "data": {
      "text/plain": [
       "0    0\n",
       "1    1\n",
       "2    0\n",
       "3    1\n",
       "4    0\n",
       "Name: HeartDisease, dtype: int64"
      ]
     },
     "execution_count": 16,
     "metadata": {},
     "output_type": "execute_result"
    }
   ],
   "source": [
    "# y is datasets target\n",
    "\n",
    "print(f'y is: {type(y)}')\n",
    "print(f'Shape of y: {y.shape}')\n",
    "y.head()"
   ]
  },
  {
   "cell_type": "markdown",
   "id": "670d8466-9942-4e79-b454-62836e221781",
   "metadata": {},
   "source": [
    "As you saw earlier in this notebook i used \"dataset.info()\" and we had some categorical data types in our dataset. Now it's time to handel them.\n",
    "I'll use pandas get_dummies() to one-hot encode the categorical data.(get_dummies() is used for data manipulation. It converts categorical data into dummy or indicator variables.)"
   ]
  },
  {
   "cell_type": "code",
   "execution_count": 17,
   "id": "99fc980e-8565-4ce4-acca-f9fcfb24236f",
   "metadata": {},
   "outputs": [
    {
     "name": "stdout",
     "output_type": "stream",
     "text": [
      "Shape of X: (918, 20)\n"
     ]
    },
    {
     "data": {
      "text/html": [
       "<div>\n",
       "<style scoped>\n",
       "    .dataframe tbody tr th:only-of-type {\n",
       "        vertical-align: middle;\n",
       "    }\n",
       "\n",
       "    .dataframe tbody tr th {\n",
       "        vertical-align: top;\n",
       "    }\n",
       "\n",
       "    .dataframe thead th {\n",
       "        text-align: right;\n",
       "    }\n",
       "</style>\n",
       "<table border=\"1\" class=\"dataframe\">\n",
       "  <thead>\n",
       "    <tr style=\"text-align: right;\">\n",
       "      <th></th>\n",
       "      <th>Age</th>\n",
       "      <th>RestingBP</th>\n",
       "      <th>Cholesterol</th>\n",
       "      <th>FastingBS</th>\n",
       "      <th>MaxHR</th>\n",
       "      <th>Oldpeak</th>\n",
       "      <th>Sex_F</th>\n",
       "      <th>Sex_M</th>\n",
       "      <th>ChestPainType_ASY</th>\n",
       "      <th>ChestPainType_ATA</th>\n",
       "      <th>ChestPainType_NAP</th>\n",
       "      <th>ChestPainType_TA</th>\n",
       "      <th>RestingECG_LVH</th>\n",
       "      <th>RestingECG_Normal</th>\n",
       "      <th>RestingECG_ST</th>\n",
       "      <th>ExerciseAngina_N</th>\n",
       "      <th>ExerciseAngina_Y</th>\n",
       "      <th>ST_Slope_Down</th>\n",
       "      <th>ST_Slope_Flat</th>\n",
       "      <th>ST_Slope_Up</th>\n",
       "    </tr>\n",
       "  </thead>\n",
       "  <tbody>\n",
       "    <tr>\n",
       "      <th>0</th>\n",
       "      <td>40</td>\n",
       "      <td>140</td>\n",
       "      <td>289</td>\n",
       "      <td>0</td>\n",
       "      <td>172</td>\n",
       "      <td>0.0</td>\n",
       "      <td>0</td>\n",
       "      <td>1</td>\n",
       "      <td>0</td>\n",
       "      <td>1</td>\n",
       "      <td>0</td>\n",
       "      <td>0</td>\n",
       "      <td>0</td>\n",
       "      <td>1</td>\n",
       "      <td>0</td>\n",
       "      <td>1</td>\n",
       "      <td>0</td>\n",
       "      <td>0</td>\n",
       "      <td>0</td>\n",
       "      <td>1</td>\n",
       "    </tr>\n",
       "    <tr>\n",
       "      <th>1</th>\n",
       "      <td>49</td>\n",
       "      <td>160</td>\n",
       "      <td>180</td>\n",
       "      <td>0</td>\n",
       "      <td>156</td>\n",
       "      <td>1.0</td>\n",
       "      <td>1</td>\n",
       "      <td>0</td>\n",
       "      <td>0</td>\n",
       "      <td>0</td>\n",
       "      <td>1</td>\n",
       "      <td>0</td>\n",
       "      <td>0</td>\n",
       "      <td>1</td>\n",
       "      <td>0</td>\n",
       "      <td>1</td>\n",
       "      <td>0</td>\n",
       "      <td>0</td>\n",
       "      <td>1</td>\n",
       "      <td>0</td>\n",
       "    </tr>\n",
       "    <tr>\n",
       "      <th>2</th>\n",
       "      <td>37</td>\n",
       "      <td>130</td>\n",
       "      <td>283</td>\n",
       "      <td>0</td>\n",
       "      <td>98</td>\n",
       "      <td>0.0</td>\n",
       "      <td>0</td>\n",
       "      <td>1</td>\n",
       "      <td>0</td>\n",
       "      <td>1</td>\n",
       "      <td>0</td>\n",
       "      <td>0</td>\n",
       "      <td>0</td>\n",
       "      <td>0</td>\n",
       "      <td>1</td>\n",
       "      <td>1</td>\n",
       "      <td>0</td>\n",
       "      <td>0</td>\n",
       "      <td>0</td>\n",
       "      <td>1</td>\n",
       "    </tr>\n",
       "    <tr>\n",
       "      <th>3</th>\n",
       "      <td>48</td>\n",
       "      <td>138</td>\n",
       "      <td>214</td>\n",
       "      <td>0</td>\n",
       "      <td>108</td>\n",
       "      <td>1.5</td>\n",
       "      <td>1</td>\n",
       "      <td>0</td>\n",
       "      <td>1</td>\n",
       "      <td>0</td>\n",
       "      <td>0</td>\n",
       "      <td>0</td>\n",
       "      <td>0</td>\n",
       "      <td>1</td>\n",
       "      <td>0</td>\n",
       "      <td>0</td>\n",
       "      <td>1</td>\n",
       "      <td>0</td>\n",
       "      <td>1</td>\n",
       "      <td>0</td>\n",
       "    </tr>\n",
       "    <tr>\n",
       "      <th>4</th>\n",
       "      <td>54</td>\n",
       "      <td>150</td>\n",
       "      <td>195</td>\n",
       "      <td>0</td>\n",
       "      <td>122</td>\n",
       "      <td>0.0</td>\n",
       "      <td>0</td>\n",
       "      <td>1</td>\n",
       "      <td>0</td>\n",
       "      <td>0</td>\n",
       "      <td>1</td>\n",
       "      <td>0</td>\n",
       "      <td>0</td>\n",
       "      <td>1</td>\n",
       "      <td>0</td>\n",
       "      <td>1</td>\n",
       "      <td>0</td>\n",
       "      <td>0</td>\n",
       "      <td>0</td>\n",
       "      <td>1</td>\n",
       "    </tr>\n",
       "  </tbody>\n",
       "</table>\n",
       "</div>"
      ],
      "text/plain": [
       "   Age  RestingBP  Cholesterol  FastingBS  MaxHR  Oldpeak  Sex_F  Sex_M  \\\n",
       "0   40        140          289          0    172      0.0      0      1   \n",
       "1   49        160          180          0    156      1.0      1      0   \n",
       "2   37        130          283          0     98      0.0      0      1   \n",
       "3   48        138          214          0    108      1.5      1      0   \n",
       "4   54        150          195          0    122      0.0      0      1   \n",
       "\n",
       "   ChestPainType_ASY  ChestPainType_ATA  ChestPainType_NAP  ChestPainType_TA  \\\n",
       "0                  0                  1                  0                 0   \n",
       "1                  0                  0                  1                 0   \n",
       "2                  0                  1                  0                 0   \n",
       "3                  1                  0                  0                 0   \n",
       "4                  0                  0                  1                 0   \n",
       "\n",
       "   RestingECG_LVH  RestingECG_Normal  RestingECG_ST  ExerciseAngina_N  \\\n",
       "0               0                  1              0                 1   \n",
       "1               0                  1              0                 1   \n",
       "2               0                  0              1                 1   \n",
       "3               0                  1              0                 0   \n",
       "4               0                  1              0                 1   \n",
       "\n",
       "   ExerciseAngina_Y  ST_Slope_Down  ST_Slope_Flat  ST_Slope_Up  \n",
       "0                 0              0              0            1  \n",
       "1                 0              0              1            0  \n",
       "2                 0              0              0            1  \n",
       "3                 1              0              1            0  \n",
       "4                 0              0              0            1  "
      ]
     },
     "execution_count": 17,
     "metadata": {},
     "output_type": "execute_result"
    }
   ],
   "source": [
    "# encode the categorical data\n",
    "\n",
    "X = pd.get_dummies(X)\n",
    "\n",
    "print(f'Shape of X: {X.shape}')\n",
    "X.head()"
   ]
  },
  {
   "cell_type": "markdown",
   "id": "f7b2cd56-f386-49cb-a553-168a88d5fff4",
   "metadata": {},
   "source": [
    "I will use Sklearn's train_test_split() function to generate a training dataset (80 percent of the total data) and testing dataset (20 percent of the total data)."
   ]
  },
  {
   "cell_type": "code",
   "execution_count": 18,
   "id": "8b5f5f3b-44d6-4afe-982e-ac87ff95536a",
   "metadata": {},
   "outputs": [
    {
     "name": "stdout",
     "output_type": "stream",
     "text": [
      "Shape of X_train: (734, 20)\n",
      "Shape of X_test: (184, 20)\n",
      "Shape of y_train: (734,)\n",
      "Shape of y_test: (184,)\n"
     ]
    }
   ],
   "source": [
    "# split data into train and test set\n",
    "\n",
    "X_train, X_test, y_train, y_test = train_test_split(X, y, random_state=42, test_size=0.2)\n",
    "\n",
    "print(f'Shape of X_train: {X_train.shape}')\n",
    "print(f'Shape of X_test: {X_test.shape}')\n",
    "print(f'Shape of y_train: {y_train.shape}')\n",
    "print(f'Shape of y_test: {y_test.shape}')"
   ]
  },
  {
   "cell_type": "markdown",
   "id": "615c62dc-4273-431b-bd37-36eb990392b0",
   "metadata": {},
   "source": [
    "\"X_train\" and \"X_test\" are pandas DataFrame and we can't use them as an input for our NN model. I'll change their types to \"numpy arrays\" and also change their data types to 'float32'."
   ]
  },
  {
   "cell_type": "code",
   "execution_count": 19,
   "id": "d244a34f-2065-4f85-902b-bc78094950fc",
   "metadata": {},
   "outputs": [],
   "source": [
    "X_train = X_train.to_numpy().astype('float32')\n",
    "X_test = X_test.to_numpy().astype('float32')"
   ]
  },
  {
   "cell_type": "code",
   "execution_count": 20,
   "id": "770c640c-8815-43bf-b654-9c46d8a4fc8c",
   "metadata": {},
   "outputs": [
    {
     "name": "stdout",
     "output_type": "stream",
     "text": [
      "[ 42.  120.  240.    1.  194.    0.8   0.    1.    0.    0.    1.    0.\n",
      "   0.    1.    0.    1.    0.    1.    0.    0. ]\n",
      "Type of X_train is: <class 'numpy.ndarray'>\n",
      "Type of X_test is: <class 'numpy.ndarray'>\n"
     ]
    }
   ],
   "source": [
    "# first item of X_train ndarray\n",
    "\n",
    "print(X_train[0])\n",
    "\n",
    "\n",
    "# X_train and X_test data types\n",
    "\n",
    "print(f'Type of X_train is: {type(X_train)}')\n",
    "print(f'Type of X_test is: {type(X_test)}')"
   ]
  },
  {
   "cell_type": "markdown",
   "id": "28989037-0c46-48fb-8d10-88123491d966",
   "metadata": {},
   "source": [
    "Scaling the data makes it easy for a model to learn and understand the problem. To scale the data i'll use StandardScaler().It removes the mean and scales each feature/variable to unit variance."
   ]
  },
  {
   "cell_type": "code",
   "execution_count": 21,
   "id": "56ee3bd1-d4b7-4a56-9712-c039fda6b23e",
   "metadata": {},
   "outputs": [
    {
     "name": "stdout",
     "output_type": "stream",
     "text": [
      "[-1.2450672  -0.70898545  0.372803    1.8426095   2.2843528  -0.09706108\n",
      " -0.54060477  0.54060477 -1.0973624  -0.48333576  1.8790594  -0.2135042\n",
      " -0.50467896  0.80817896 -0.4876208   0.8384606  -0.8384606   3.780432\n",
      " -1.0332501  -0.8479207 ]\n"
     ]
    }
   ],
   "source": [
    "# scale X_train and X_test\n",
    "\n",
    "scaler = StandardScaler()\n",
    "\n",
    "X_train = scaler.fit_transform(X_train)\n",
    "X_test = scaler.transform(X_test)\n",
    "\n",
    "# first item of X_train after scaling\n",
    "\n",
    "print(X_train[0])"
   ]
  },
  {
   "cell_type": "markdown",
   "id": "b340fd8e-92c8-4850-9e05-f55b6075809b",
   "metadata": {},
   "source": [
    "To convert our labels that are integers to binary class matrix i'll user keras to_categorical() function."
   ]
  },
  {
   "cell_type": "code",
   "execution_count": 22,
   "id": "6aa2e285-a428-444d-bdd1-d17eeb23480a",
   "metadata": {},
   "outputs": [
    {
     "name": "stdout",
     "output_type": "stream",
     "text": [
      "(734, 2)\n"
     ]
    },
    {
     "data": {
      "text/plain": [
       "array([[1., 0.],\n",
       "       [1., 0.],\n",
       "       [0., 1.],\n",
       "       ...,\n",
       "       [0., 1.],\n",
       "       [1., 0.],\n",
       "       [0., 1.]], dtype=float32)"
      ]
     },
     "execution_count": 22,
     "metadata": {},
     "output_type": "execute_result"
    }
   ],
   "source": [
    "# convert the data to categorical labels\n",
    "\n",
    "y_train = to_categorical(y_train)\n",
    "\n",
    "print (y_train.shape)\n",
    "y_train"
   ]
  },
  {
   "cell_type": "markdown",
   "id": "c1d5e562-d29a-4d70-9ce1-386a1f4ac7f8",
   "metadata": {
    "tags": []
   },
   "source": [
    "## Train Model 🥊 ⚙️\n",
    "\n",
    "For building the NN model I will be using keras Sequential class to create a 5 layer model(3 hidden layers and 2 input and output layers) with adam as the optimizer."
   ]
  },
  {
   "cell_type": "code",
   "execution_count": 23,
   "id": "5bd61050-8b03-460d-91e5-1747fbd66ac1",
   "metadata": {},
   "outputs": [
    {
     "name": "stderr",
     "output_type": "stream",
     "text": [
      "2022-06-08 22:20:09.581234: I tensorflow/core/common_runtime/pluggable_device/pluggable_device_factory.cc:305] Could not identify NUMA node of platform GPU ID 0, defaulting to 0. Your kernel may not have been built with NUMA support.\n",
      "2022-06-08 22:20:09.581334: I tensorflow/core/common_runtime/pluggable_device/pluggable_device_factory.cc:271] Created TensorFlow device (/job:localhost/replica:0/task:0/device:GPU:0 with 0 MB memory) -> physical PluggableDevice (device: 0, name: METAL, pci bus id: <undefined>)\n"
     ]
    },
    {
     "name": "stdout",
     "output_type": "stream",
     "text": [
      "Metal device set to: Apple M1\n",
      "Model: \"sequential\"\n",
      "_________________________________________________________________\n",
      " Layer (type)                Output Shape              Param #   \n",
      "=================================================================\n",
      " dense (Dense)               (None, 16)                336       \n",
      "                                                                 \n",
      " dense_1 (Dense)             (None, 12)                204       \n",
      "                                                                 \n",
      " dropout (Dropout)           (None, 12)                0         \n",
      "                                                                 \n",
      " dense_2 (Dense)             (None, 8)                 104       \n",
      "                                                                 \n",
      " dropout_1 (Dropout)         (None, 8)                 0         \n",
      "                                                                 \n",
      " dense_3 (Dense)             (None, 2)                 18        \n",
      "                                                                 \n",
      "=================================================================\n",
      "Total params: 662\n",
      "Trainable params: 662\n",
      "Non-trainable params: 0\n",
      "_________________________________________________________________\n"
     ]
    }
   ],
   "source": [
    "def create_model():\n",
    "    model = Sequential()\n",
    "    model.add(Dense(16, activation='relu', input_shape=(20, ), kernel_regularizer=regularizers.L1L2(l1=0.001, l2=0.001)))\n",
    "    model.add(Dense(12, activation='relu', kernel_regularizer=regularizers.L1L2(l1=0.001, l2=0.001)))\n",
    "    model.add(Dropout(0.2))\n",
    "    model.add(Dense(8, activation='relu', kernel_regularizer=regularizers.L1L2(l1=0.001, l2=0.001)))\n",
    "    model.add(Dropout(0.2))\n",
    "    model.add(Dense(2, activation='sigmoid'))\n",
    "    return model\n",
    "\n",
    "model = create_model()\n",
    "model.summary()"
   ]
  },
  {
   "cell_type": "code",
   "execution_count": 24,
   "id": "4d1f6c61-888c-4396-a571-46d8b48818db",
   "metadata": {},
   "outputs": [
    {
     "name": "stderr",
     "output_type": "stream",
     "text": [
      "/Users/parisa/opt/anaconda3/envs/Heart-Disease-Prediction-env/lib/python3.9/site-packages/keras/optimizers/optimizer_v2/adam.py:110: UserWarning: The `lr` argument is deprecated, use `learning_rate` instead.\n",
      "  super(Adam, self).__init__(name, **kwargs)\n"
     ]
    }
   ],
   "source": [
    "opt = Adam(lr=0.001)\n",
    "\n",
    "model.compile(\n",
    "    loss='binary_crossentropy',\n",
    "    optimizer=opt,\n",
    "    metrics=['accuracy']\n",
    ")"
   ]
  },
  {
   "cell_type": "code",
   "execution_count": 25,
   "id": "29eddee6-357e-46a5-8cae-b39f0d5a8881",
   "metadata": {
    "tags": []
   },
   "outputs": [
    {
     "name": "stdout",
     "output_type": "stream",
     "text": [
      "Epoch 1/40\n"
     ]
    },
    {
     "name": "stderr",
     "output_type": "stream",
     "text": [
      "2022-06-08 22:20:09.708225: W tensorflow/core/platform/profile_utils/cpu_utils.cc:128] Failed to get CPU frequency: 0 Hz\n"
     ]
    },
    {
     "name": "stdout",
     "output_type": "stream",
     "text": [
      " 1/19 [>.............................] - ETA: 7s - loss: 1.1256 - accuracy: 0.3438"
     ]
    },
    {
     "name": "stderr",
     "output_type": "stream",
     "text": [
      "2022-06-08 22:20:09.966481: I tensorflow/core/grappler/optimizers/custom_graph_optimizer_registry.cc:113] Plugin optimizer for device_type GPU is enabled.\n"
     ]
    },
    {
     "name": "stdout",
     "output_type": "stream",
     "text": [
      "19/19 [==============================] - 1s 19ms/step - loss: 0.9252 - accuracy: 0.5196 - val_loss: 0.8514 - val_accuracy: 0.6190\n",
      "Epoch 2/40\n",
      "17/19 [=========================>....] - ETA: 0s - loss: 0.8356 - accuracy: 0.5772"
     ]
    },
    {
     "name": "stderr",
     "output_type": "stream",
     "text": [
      "2022-06-08 22:20:10.398315: I tensorflow/core/grappler/optimizers/custom_graph_optimizer_registry.cc:113] Plugin optimizer for device_type GPU is enabled.\n"
     ]
    },
    {
     "name": "stdout",
     "output_type": "stream",
     "text": [
      "19/19 [==============================] - 0s 8ms/step - loss: 0.8279 - accuracy: 0.5894 - val_loss: 0.8020 - val_accuracy: 0.7279\n",
      "Epoch 3/40\n",
      "19/19 [==============================] - 0s 9ms/step - loss: 0.8053 - accuracy: 0.6491 - val_loss: 0.7690 - val_accuracy: 0.7483\n",
      "Epoch 4/40\n",
      "19/19 [==============================] - 0s 9ms/step - loss: 0.7546 - accuracy: 0.7087 - val_loss: 0.7432 - val_accuracy: 0.7891\n",
      "Epoch 5/40\n",
      "19/19 [==============================] - 0s 9ms/step - loss: 0.7415 - accuracy: 0.7376 - val_loss: 0.7201 - val_accuracy: 0.8163\n",
      "Epoch 6/40\n",
      "19/19 [==============================] - 0s 9ms/step - loss: 0.7179 - accuracy: 0.7496 - val_loss: 0.6967 - val_accuracy: 0.8163\n",
      "Epoch 7/40\n",
      "19/19 [==============================] - 0s 9ms/step - loss: 0.6713 - accuracy: 0.7751 - val_loss: 0.6712 - val_accuracy: 0.8299\n",
      "Epoch 8/40\n",
      "19/19 [==============================] - 0s 9ms/step - loss: 0.6456 - accuracy: 0.7819 - val_loss: 0.6426 - val_accuracy: 0.8367\n",
      "Epoch 9/40\n",
      "19/19 [==============================] - 0s 9ms/step - loss: 0.6182 - accuracy: 0.8279 - val_loss: 0.6179 - val_accuracy: 0.8367\n",
      "Epoch 10/40\n",
      "19/19 [==============================] - 0s 9ms/step - loss: 0.6115 - accuracy: 0.8041 - val_loss: 0.5924 - val_accuracy: 0.8367\n",
      "Epoch 11/40\n",
      "19/19 [==============================] - 0s 9ms/step - loss: 0.5748 - accuracy: 0.8348 - val_loss: 0.5740 - val_accuracy: 0.8435\n",
      "Epoch 12/40\n",
      "19/19 [==============================] - 0s 9ms/step - loss: 0.5834 - accuracy: 0.8279 - val_loss: 0.5572 - val_accuracy: 0.8435\n",
      "Epoch 13/40\n",
      "19/19 [==============================] - 0s 9ms/step - loss: 0.5407 - accuracy: 0.8245 - val_loss: 0.5477 - val_accuracy: 0.8435\n",
      "Epoch 14/40\n",
      "19/19 [==============================] - 0s 9ms/step - loss: 0.5288 - accuracy: 0.8348 - val_loss: 0.5425 - val_accuracy: 0.8435\n",
      "Epoch 15/40\n",
      "19/19 [==============================] - 0s 9ms/step - loss: 0.5392 - accuracy: 0.8262 - val_loss: 0.5378 - val_accuracy: 0.8503\n",
      "Epoch 16/40\n",
      "19/19 [==============================] - 0s 9ms/step - loss: 0.5455 - accuracy: 0.8228 - val_loss: 0.5280 - val_accuracy: 0.8503\n",
      "Epoch 17/40\n",
      "19/19 [==============================] - 0s 9ms/step - loss: 0.5148 - accuracy: 0.8467 - val_loss: 0.5237 - val_accuracy: 0.8503\n",
      "Epoch 18/40\n",
      "19/19 [==============================] - 0s 9ms/step - loss: 0.5207 - accuracy: 0.8433 - val_loss: 0.5143 - val_accuracy: 0.8571\n",
      "Epoch 19/40\n",
      "19/19 [==============================] - 0s 9ms/step - loss: 0.5096 - accuracy: 0.8416 - val_loss: 0.5131 - val_accuracy: 0.8503\n",
      "Epoch 20/40\n",
      "19/19 [==============================] - 0s 9ms/step - loss: 0.4929 - accuracy: 0.8535 - val_loss: 0.5111 - val_accuracy: 0.8503\n",
      "Epoch 21/40\n",
      "19/19 [==============================] - 0s 8ms/step - loss: 0.4836 - accuracy: 0.8637 - val_loss: 0.5073 - val_accuracy: 0.8571\n",
      "Epoch 22/40\n",
      "19/19 [==============================] - 0s 8ms/step - loss: 0.4903 - accuracy: 0.8433 - val_loss: 0.5051 - val_accuracy: 0.8639\n",
      "Epoch 23/40\n",
      "19/19 [==============================] - 0s 8ms/step - loss: 0.5166 - accuracy: 0.8348 - val_loss: 0.5024 - val_accuracy: 0.8639\n",
      "Epoch 24/40\n",
      "19/19 [==============================] - 0s 8ms/step - loss: 0.4731 - accuracy: 0.8688 - val_loss: 0.4982 - val_accuracy: 0.8639\n",
      "Epoch 25/40\n",
      "19/19 [==============================] - 0s 8ms/step - loss: 0.4921 - accuracy: 0.8501 - val_loss: 0.5014 - val_accuracy: 0.8571\n",
      "Epoch 26/40\n",
      "19/19 [==============================] - 0s 9ms/step - loss: 0.4657 - accuracy: 0.8620 - val_loss: 0.4961 - val_accuracy: 0.8639\n",
      "Epoch 27/40\n",
      "19/19 [==============================] - 0s 9ms/step - loss: 0.4716 - accuracy: 0.8586 - val_loss: 0.4918 - val_accuracy: 0.8639\n",
      "Epoch 28/40\n",
      "19/19 [==============================] - 0s 9ms/step - loss: 0.4735 - accuracy: 0.8569 - val_loss: 0.4931 - val_accuracy: 0.8639\n",
      "Epoch 29/40\n",
      "19/19 [==============================] - 0s 9ms/step - loss: 0.4628 - accuracy: 0.8688 - val_loss: 0.4900 - val_accuracy: 0.8571\n",
      "Epoch 30/40\n",
      "19/19 [==============================] - 0s 9ms/step - loss: 0.4634 - accuracy: 0.8654 - val_loss: 0.4874 - val_accuracy: 0.8639\n",
      "Epoch 31/40\n",
      "19/19 [==============================] - 0s 9ms/step - loss: 0.4586 - accuracy: 0.8637 - val_loss: 0.4844 - val_accuracy: 0.8639\n",
      "Epoch 32/40\n",
      "19/19 [==============================] - 0s 8ms/step - loss: 0.4484 - accuracy: 0.8807 - val_loss: 0.4848 - val_accuracy: 0.8435\n",
      "Epoch 33/40\n",
      "19/19 [==============================] - 0s 8ms/step - loss: 0.4555 - accuracy: 0.8688 - val_loss: 0.4837 - val_accuracy: 0.8503\n",
      "Epoch 34/40\n",
      "19/19 [==============================] - 0s 8ms/step - loss: 0.4387 - accuracy: 0.8842 - val_loss: 0.4821 - val_accuracy: 0.8503\n",
      "Epoch 35/40\n",
      "19/19 [==============================] - 0s 8ms/step - loss: 0.4394 - accuracy: 0.8739 - val_loss: 0.4825 - val_accuracy: 0.8503\n",
      "Epoch 36/40\n",
      "19/19 [==============================] - 0s 9ms/step - loss: 0.4227 - accuracy: 0.8842 - val_loss: 0.4812 - val_accuracy: 0.8503\n",
      "Epoch 37/40\n",
      "19/19 [==============================] - 0s 8ms/step - loss: 0.4253 - accuracy: 0.8842 - val_loss: 0.4823 - val_accuracy: 0.8503\n",
      "Epoch 38/40\n",
      "19/19 [==============================] - 0s 8ms/step - loss: 0.4374 - accuracy: 0.8927 - val_loss: 0.4828 - val_accuracy: 0.8435\n",
      "Epoch 39/40\n",
      "19/19 [==============================] - 0s 8ms/step - loss: 0.4360 - accuracy: 0.8842 - val_loss: 0.4796 - val_accuracy: 0.8435\n",
      "Epoch 40/40\n",
      "19/19 [==============================] - 0s 8ms/step - loss: 0.4235 - accuracy: 0.8961 - val_loss: 0.4783 - val_accuracy: 0.8435\n"
     ]
    }
   ],
   "source": [
    "history = model.fit(X_train, y_train, epochs=40, batch_size=32, validation_split=0.2)"
   ]
  },
  {
   "cell_type": "markdown",
   "id": "44ee820e-b31c-41c3-924b-66ee98c23402",
   "metadata": {},
   "source": [
    "Here are losses and accuracy performance measuer of the model for training and validation data."
   ]
  },
  {
   "cell_type": "code",
   "execution_count": 26,
   "id": "f9e10dbb-7f7c-4c33-9b60-47ef15c6a7e7",
   "metadata": {},
   "outputs": [
    {
     "data": {
      "text/html": [
       "<div>\n",
       "<style scoped>\n",
       "    .dataframe tbody tr th:only-of-type {\n",
       "        vertical-align: middle;\n",
       "    }\n",
       "\n",
       "    .dataframe tbody tr th {\n",
       "        vertical-align: top;\n",
       "    }\n",
       "\n",
       "    .dataframe thead th {\n",
       "        text-align: right;\n",
       "    }\n",
       "</style>\n",
       "<table border=\"1\" class=\"dataframe\">\n",
       "  <thead>\n",
       "    <tr style=\"text-align: right;\">\n",
       "      <th></th>\n",
       "      <th>loss</th>\n",
       "      <th>accuracy</th>\n",
       "      <th>val_loss</th>\n",
       "      <th>val_accuracy</th>\n",
       "    </tr>\n",
       "  </thead>\n",
       "  <tbody>\n",
       "    <tr>\n",
       "      <th>0</th>\n",
       "      <td>0.925216</td>\n",
       "      <td>0.519591</td>\n",
       "      <td>0.851424</td>\n",
       "      <td>0.619048</td>\n",
       "    </tr>\n",
       "    <tr>\n",
       "      <th>1</th>\n",
       "      <td>0.827851</td>\n",
       "      <td>0.589438</td>\n",
       "      <td>0.801970</td>\n",
       "      <td>0.727891</td>\n",
       "    </tr>\n",
       "    <tr>\n",
       "      <th>2</th>\n",
       "      <td>0.805329</td>\n",
       "      <td>0.649063</td>\n",
       "      <td>0.768959</td>\n",
       "      <td>0.748299</td>\n",
       "    </tr>\n",
       "    <tr>\n",
       "      <th>3</th>\n",
       "      <td>0.754650</td>\n",
       "      <td>0.708688</td>\n",
       "      <td>0.743156</td>\n",
       "      <td>0.789116</td>\n",
       "    </tr>\n",
       "    <tr>\n",
       "      <th>4</th>\n",
       "      <td>0.741536</td>\n",
       "      <td>0.737649</td>\n",
       "      <td>0.720062</td>\n",
       "      <td>0.816326</td>\n",
       "    </tr>\n",
       "    <tr>\n",
       "      <th>5</th>\n",
       "      <td>0.717939</td>\n",
       "      <td>0.749574</td>\n",
       "      <td>0.696687</td>\n",
       "      <td>0.816326</td>\n",
       "    </tr>\n",
       "    <tr>\n",
       "      <th>6</th>\n",
       "      <td>0.671286</td>\n",
       "      <td>0.775128</td>\n",
       "      <td>0.671152</td>\n",
       "      <td>0.829932</td>\n",
       "    </tr>\n",
       "    <tr>\n",
       "      <th>7</th>\n",
       "      <td>0.645550</td>\n",
       "      <td>0.781942</td>\n",
       "      <td>0.642598</td>\n",
       "      <td>0.836735</td>\n",
       "    </tr>\n",
       "    <tr>\n",
       "      <th>8</th>\n",
       "      <td>0.618220</td>\n",
       "      <td>0.827939</td>\n",
       "      <td>0.617888</td>\n",
       "      <td>0.836735</td>\n",
       "    </tr>\n",
       "    <tr>\n",
       "      <th>9</th>\n",
       "      <td>0.611453</td>\n",
       "      <td>0.804089</td>\n",
       "      <td>0.592370</td>\n",
       "      <td>0.836735</td>\n",
       "    </tr>\n",
       "    <tr>\n",
       "      <th>10</th>\n",
       "      <td>0.574763</td>\n",
       "      <td>0.834753</td>\n",
       "      <td>0.574028</td>\n",
       "      <td>0.843537</td>\n",
       "    </tr>\n",
       "    <tr>\n",
       "      <th>11</th>\n",
       "      <td>0.583392</td>\n",
       "      <td>0.827939</td>\n",
       "      <td>0.557194</td>\n",
       "      <td>0.843537</td>\n",
       "    </tr>\n",
       "    <tr>\n",
       "      <th>12</th>\n",
       "      <td>0.540749</td>\n",
       "      <td>0.824531</td>\n",
       "      <td>0.547738</td>\n",
       "      <td>0.843537</td>\n",
       "    </tr>\n",
       "    <tr>\n",
       "      <th>13</th>\n",
       "      <td>0.528848</td>\n",
       "      <td>0.834753</td>\n",
       "      <td>0.542484</td>\n",
       "      <td>0.843537</td>\n",
       "    </tr>\n",
       "    <tr>\n",
       "      <th>14</th>\n",
       "      <td>0.539228</td>\n",
       "      <td>0.826235</td>\n",
       "      <td>0.537813</td>\n",
       "      <td>0.850340</td>\n",
       "    </tr>\n",
       "    <tr>\n",
       "      <th>15</th>\n",
       "      <td>0.545490</td>\n",
       "      <td>0.822828</td>\n",
       "      <td>0.528046</td>\n",
       "      <td>0.850340</td>\n",
       "    </tr>\n",
       "    <tr>\n",
       "      <th>16</th>\n",
       "      <td>0.514809</td>\n",
       "      <td>0.846678</td>\n",
       "      <td>0.523710</td>\n",
       "      <td>0.850340</td>\n",
       "    </tr>\n",
       "    <tr>\n",
       "      <th>17</th>\n",
       "      <td>0.520722</td>\n",
       "      <td>0.843271</td>\n",
       "      <td>0.514289</td>\n",
       "      <td>0.857143</td>\n",
       "    </tr>\n",
       "    <tr>\n",
       "      <th>18</th>\n",
       "      <td>0.509569</td>\n",
       "      <td>0.841567</td>\n",
       "      <td>0.513145</td>\n",
       "      <td>0.850340</td>\n",
       "    </tr>\n",
       "    <tr>\n",
       "      <th>19</th>\n",
       "      <td>0.492921</td>\n",
       "      <td>0.853492</td>\n",
       "      <td>0.511132</td>\n",
       "      <td>0.850340</td>\n",
       "    </tr>\n",
       "    <tr>\n",
       "      <th>20</th>\n",
       "      <td>0.483629</td>\n",
       "      <td>0.863714</td>\n",
       "      <td>0.507332</td>\n",
       "      <td>0.857143</td>\n",
       "    </tr>\n",
       "    <tr>\n",
       "      <th>21</th>\n",
       "      <td>0.490321</td>\n",
       "      <td>0.843271</td>\n",
       "      <td>0.505108</td>\n",
       "      <td>0.863946</td>\n",
       "    </tr>\n",
       "    <tr>\n",
       "      <th>22</th>\n",
       "      <td>0.516573</td>\n",
       "      <td>0.834753</td>\n",
       "      <td>0.502447</td>\n",
       "      <td>0.863946</td>\n",
       "    </tr>\n",
       "    <tr>\n",
       "      <th>23</th>\n",
       "      <td>0.473071</td>\n",
       "      <td>0.868824</td>\n",
       "      <td>0.498195</td>\n",
       "      <td>0.863946</td>\n",
       "    </tr>\n",
       "    <tr>\n",
       "      <th>24</th>\n",
       "      <td>0.492075</td>\n",
       "      <td>0.850085</td>\n",
       "      <td>0.501436</td>\n",
       "      <td>0.857143</td>\n",
       "    </tr>\n",
       "    <tr>\n",
       "      <th>25</th>\n",
       "      <td>0.465727</td>\n",
       "      <td>0.862010</td>\n",
       "      <td>0.496059</td>\n",
       "      <td>0.863946</td>\n",
       "    </tr>\n",
       "    <tr>\n",
       "      <th>26</th>\n",
       "      <td>0.471563</td>\n",
       "      <td>0.858603</td>\n",
       "      <td>0.491761</td>\n",
       "      <td>0.863946</td>\n",
       "    </tr>\n",
       "    <tr>\n",
       "      <th>27</th>\n",
       "      <td>0.473456</td>\n",
       "      <td>0.856899</td>\n",
       "      <td>0.493116</td>\n",
       "      <td>0.863946</td>\n",
       "    </tr>\n",
       "    <tr>\n",
       "      <th>28</th>\n",
       "      <td>0.462783</td>\n",
       "      <td>0.868824</td>\n",
       "      <td>0.489997</td>\n",
       "      <td>0.857143</td>\n",
       "    </tr>\n",
       "    <tr>\n",
       "      <th>29</th>\n",
       "      <td>0.463446</td>\n",
       "      <td>0.865417</td>\n",
       "      <td>0.487352</td>\n",
       "      <td>0.863946</td>\n",
       "    </tr>\n",
       "    <tr>\n",
       "      <th>30</th>\n",
       "      <td>0.458570</td>\n",
       "      <td>0.863714</td>\n",
       "      <td>0.484388</td>\n",
       "      <td>0.863946</td>\n",
       "    </tr>\n",
       "    <tr>\n",
       "      <th>31</th>\n",
       "      <td>0.448441</td>\n",
       "      <td>0.880750</td>\n",
       "      <td>0.484780</td>\n",
       "      <td>0.843537</td>\n",
       "    </tr>\n",
       "    <tr>\n",
       "      <th>32</th>\n",
       "      <td>0.455460</td>\n",
       "      <td>0.868824</td>\n",
       "      <td>0.483652</td>\n",
       "      <td>0.850340</td>\n",
       "    </tr>\n",
       "    <tr>\n",
       "      <th>33</th>\n",
       "      <td>0.438730</td>\n",
       "      <td>0.884157</td>\n",
       "      <td>0.482092</td>\n",
       "      <td>0.850340</td>\n",
       "    </tr>\n",
       "    <tr>\n",
       "      <th>34</th>\n",
       "      <td>0.439438</td>\n",
       "      <td>0.873935</td>\n",
       "      <td>0.482540</td>\n",
       "      <td>0.850340</td>\n",
       "    </tr>\n",
       "    <tr>\n",
       "      <th>35</th>\n",
       "      <td>0.422742</td>\n",
       "      <td>0.884157</td>\n",
       "      <td>0.481179</td>\n",
       "      <td>0.850340</td>\n",
       "    </tr>\n",
       "    <tr>\n",
       "      <th>36</th>\n",
       "      <td>0.425251</td>\n",
       "      <td>0.884157</td>\n",
       "      <td>0.482303</td>\n",
       "      <td>0.850340</td>\n",
       "    </tr>\n",
       "    <tr>\n",
       "      <th>37</th>\n",
       "      <td>0.437432</td>\n",
       "      <td>0.892675</td>\n",
       "      <td>0.482752</td>\n",
       "      <td>0.843537</td>\n",
       "    </tr>\n",
       "    <tr>\n",
       "      <th>38</th>\n",
       "      <td>0.435954</td>\n",
       "      <td>0.884157</td>\n",
       "      <td>0.479639</td>\n",
       "      <td>0.843537</td>\n",
       "    </tr>\n",
       "    <tr>\n",
       "      <th>39</th>\n",
       "      <td>0.423510</td>\n",
       "      <td>0.896082</td>\n",
       "      <td>0.478328</td>\n",
       "      <td>0.843537</td>\n",
       "    </tr>\n",
       "  </tbody>\n",
       "</table>\n",
       "</div>"
      ],
      "text/plain": [
       "        loss  accuracy  val_loss  val_accuracy\n",
       "0   0.925216  0.519591  0.851424      0.619048\n",
       "1   0.827851  0.589438  0.801970      0.727891\n",
       "2   0.805329  0.649063  0.768959      0.748299\n",
       "3   0.754650  0.708688  0.743156      0.789116\n",
       "4   0.741536  0.737649  0.720062      0.816326\n",
       "5   0.717939  0.749574  0.696687      0.816326\n",
       "6   0.671286  0.775128  0.671152      0.829932\n",
       "7   0.645550  0.781942  0.642598      0.836735\n",
       "8   0.618220  0.827939  0.617888      0.836735\n",
       "9   0.611453  0.804089  0.592370      0.836735\n",
       "10  0.574763  0.834753  0.574028      0.843537\n",
       "11  0.583392  0.827939  0.557194      0.843537\n",
       "12  0.540749  0.824531  0.547738      0.843537\n",
       "13  0.528848  0.834753  0.542484      0.843537\n",
       "14  0.539228  0.826235  0.537813      0.850340\n",
       "15  0.545490  0.822828  0.528046      0.850340\n",
       "16  0.514809  0.846678  0.523710      0.850340\n",
       "17  0.520722  0.843271  0.514289      0.857143\n",
       "18  0.509569  0.841567  0.513145      0.850340\n",
       "19  0.492921  0.853492  0.511132      0.850340\n",
       "20  0.483629  0.863714  0.507332      0.857143\n",
       "21  0.490321  0.843271  0.505108      0.863946\n",
       "22  0.516573  0.834753  0.502447      0.863946\n",
       "23  0.473071  0.868824  0.498195      0.863946\n",
       "24  0.492075  0.850085  0.501436      0.857143\n",
       "25  0.465727  0.862010  0.496059      0.863946\n",
       "26  0.471563  0.858603  0.491761      0.863946\n",
       "27  0.473456  0.856899  0.493116      0.863946\n",
       "28  0.462783  0.868824  0.489997      0.857143\n",
       "29  0.463446  0.865417  0.487352      0.863946\n",
       "30  0.458570  0.863714  0.484388      0.863946\n",
       "31  0.448441  0.880750  0.484780      0.843537\n",
       "32  0.455460  0.868824  0.483652      0.850340\n",
       "33  0.438730  0.884157  0.482092      0.850340\n",
       "34  0.439438  0.873935  0.482540      0.850340\n",
       "35  0.422742  0.884157  0.481179      0.850340\n",
       "36  0.425251  0.884157  0.482303      0.850340\n",
       "37  0.437432  0.892675  0.482752      0.843537\n",
       "38  0.435954  0.884157  0.479639      0.843537\n",
       "39  0.423510  0.896082  0.478328      0.843537"
      ]
     },
     "execution_count": 26,
     "metadata": {},
     "output_type": "execute_result"
    }
   ],
   "source": [
    "model_history = pd.DataFrame(history.history)\n",
    "model_history"
   ]
  },
  {
   "cell_type": "code",
   "execution_count": 30,
   "id": "9ad443ef-e2e8-4b18-9b51-faa915f27aba",
   "metadata": {},
   "outputs": [
    {
     "data": {
      "image/png": "[encoded data removed]",
      "text/plain": [
       "<Figure size 432x288 with 1 Axes>"
      ]
     },
     "metadata": {
      "needs_background": "light"
     },
     "output_type": "display_data"
    }
   ],
   "source": [
    "# model accuracy\n",
    "\n",
    "plt.plot(history.history['accuracy'])\n",
    "plt.plot(history.history['val_accuracy'])\n",
    "plt.title('Accuracy and Validation-Accuracy')\n",
    "plt.ylabel('accuracy')\n",
    "plt.xlabel('epochs')\n",
    "plt.legend(['train-accuracy', 'validation-accuracy'])\n",
    "plt.show()"
   ]
  },
  {
   "cell_type": "code",
   "execution_count": 31,
   "id": "5de90d58-6da0-4d1e-81c0-e5a8feb8a602",
   "metadata": {},
   "outputs": [
    {
     "data": {
      "image/png": "[encoded data removed]",
      "text/plain": [
       "<Figure size 432x288 with 1 Axes>"
      ]
     },
     "metadata": {
      "needs_background": "light"
     },
     "output_type": "display_data"
    }
   ],
   "source": [
    "# model Loss\n",
    "\n",
    "plt.plot(history.history['loss'])\n",
    "plt.plot(history.history['val_loss'])\n",
    "plt.title('Loss and Validation-Loss')\n",
    "plt.ylabel('Loss')\n",
    "plt.xlabel('epochs')\n",
    "plt.legend(['loss', 'validation-loss'])\n",
    "plt.show()"
   ]
  },
  {
   "cell_type": "markdown",
   "id": "d961da85-3775-4124-8000-de57146cb3fb",
   "metadata": {
    "tags": []
   },
   "source": [
    "## Test and save model ✅ 🎯\n",
    "\n",
    "We saw the accuracy results are for the training data, but what about the testing dataset? If our model's cannot generalize to data that wasn't used to train them, they won't provide any utility.\n",
    "I'll first make predictions using my model on test data and then calculate it's performance using Sklearn metrics."
   ]
  },
  {
   "cell_type": "code",
   "execution_count": 32,
   "id": "af7865cb-c0c7-416b-b73f-79ea74e76904",
   "metadata": {
    "tags": []
   },
   "outputs": [
    {
     "name": "stdout",
     "output_type": "stream",
     "text": [
      "6/6 [==============================] - 0s 4ms/step\n"
     ]
    },
    {
     "name": "stderr",
     "output_type": "stream",
     "text": [
      "2022-06-08 22:20:53.740412: I tensorflow/core/grappler/optimizers/custom_graph_optimizer_registry.cc:113] Plugin optimizer for device_type GPU is enabled.\n"
     ]
    }
   ],
   "source": [
    "prediction = np.argmax(model.predict(X_test), axis=1)"
   ]
  },
  {
   "cell_type": "code",
   "execution_count": 33,
   "id": "c87c1b4e-2eab-4b89-a997-e603fe8741d6",
   "metadata": {},
   "outputs": [
    {
     "name": "stdout",
     "output_type": "stream",
     "text": [
      "Accuracy Score is: 87.50\n"
     ]
    }
   ],
   "source": [
    "accuracy_score = accuracy_score(y_test, prediction) * 100\n",
    "print(f'Accuracy Score is: {accuracy_score:.2f}')"
   ]
  },
  {
   "cell_type": "code",
   "execution_count": 34,
   "id": "ce65fd47-1cde-414d-8dfd-799d46140720",
   "metadata": {
    "tags": []
   },
   "outputs": [
    {
     "name": "stdout",
     "output_type": "stream",
     "text": [
      "              precision    recall  f1-score   support\n",
      "\n",
      "           0       0.84      0.87      0.85        77\n",
      "           1       0.90      0.88      0.89       107\n",
      "\n",
      "    accuracy                           0.88       184\n",
      "   macro avg       0.87      0.87      0.87       184\n",
      "weighted avg       0.88      0.88      0.88       184\n",
      "\n"
     ]
    }
   ],
   "source": [
    "classification_report = classification_report(y_test, prediction)\n",
    "print(classification_report)"
   ]
  },
  {
   "cell_type": "code",
   "execution_count": 35,
   "id": "90b5e778-64de-4fe0-ba6a-401363298fb1",
   "metadata": {},
   "outputs": [],
   "source": [
    "model.save('model.h5')"
   ]
  }
 ],
 "metadata": {
  "kernelspec": {
   "display_name": "Python 3 (ipykernel)",
   "language": "python",
   "name": "python3"
  },
  "language_info": {
   "codemirror_mode": {
    "name": "ipython",
    "version": 3
   },
   "file_extension": ".py",
   "mimetype": "text/x-python",
   "name": "python",
   "nbconvert_exporter": "python",
   "pygments_lexer": "ipython3",
   "version": "3.9.12"
  }
 },
 "nbformat": 4,
 "nbformat_minor": 5
}
